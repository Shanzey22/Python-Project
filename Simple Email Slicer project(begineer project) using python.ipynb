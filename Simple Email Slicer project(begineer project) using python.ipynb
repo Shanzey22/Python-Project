{
 "cells": [
  {
   "cell_type": "code",
   "execution_count": 1,
   "id": "a70775ea-8d25-4d53-b440-1cbbb6a895fc",
   "metadata": {},
   "outputs": [
    {
     "name": "stdin",
     "output_type": "stream",
     "text": [
      "Please enter your email: shanzeyshaikh22@gmail.com\n"
     ]
    },
    {
     "name": "stdout",
     "output_type": "stream",
     "text": [
      "Your user name is 'shanzeyshaikh22' and your domain is 'gmail.com'\n"
     ]
    }
   ],
   "source": [
    "#user input\n",
    "email = input(\"Please enter your email:\").strip()\n",
    "\n",
    "\n",
    "#definig username and domain parts\n",
    "username_part = email[:email.index(\"@\")]\n",
    "domain_name = email[email.index(\"@\")+1:]\n",
    "\n",
    "\n",
    "output = (f\"Your user name is '{username_part}' and your domain is '{domain_name}'\")\n",
    "\n",
    "\n",
    "#genrating the output\n",
    "print(output)"
   ]
  },
  {
   "cell_type": "code",
   "execution_count": null,
   "id": "149ce5d7-cf46-4297-9b61-740cafdf9ac8",
   "metadata": {},
   "outputs": [],
   "source": []
  }
 ],
 "metadata": {
  "kernelspec": {
   "display_name": "Python 3 (ipykernel)",
   "language": "python",
   "name": "python3"
  },
  "language_info": {
   "codemirror_mode": {
    "name": "ipython",
    "version": 3
   },
   "file_extension": ".py",
   "mimetype": "text/x-python",
   "name": "python",
   "nbconvert_exporter": "python",
   "pygments_lexer": "ipython3",
   "version": "3.11.7"
  }
 },
 "nbformat": 4,
 "nbformat_minor": 5
}
