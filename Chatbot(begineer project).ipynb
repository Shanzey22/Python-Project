{
 "cells": [
  {
   "cell_type": "code",
   "execution_count": 2,
   "id": "a0fa2d2f-6e69-4ee5-b5f7-99ec701673a6",
   "metadata": {},
   "outputs": [
    {
     "name": "stdout",
     "output_type": "stream",
     "text": [
      "{'i am': 'you are', 'i was': 'you were', 'i': 'you', \"i'm\": 'you are', \"i'd\": 'you would', \"i've\": 'you have', \"i'll\": 'you will', 'my': 'your', 'you are': 'I am', 'you were': 'I was', \"you've\": 'I have', \"you'll\": 'I will', 'your': 'my', 'yours': 'mine', 'you': 'me', 'me': 'you'}\n",
      "Hi, I'm a bot, and my name is Ninja. \n",
      "Please type your query. Type quit to leave. \n"
     ]
    }
   ],
   "source": [
    "# Importing libraries\n",
    "from nltk.chat.util import Chat, reflections\n",
    "\n",
    "#Creating a list of responses\n",
    "responses = [\n",
    "    \n",
    "    [\n",
    "        r\"(hi|hey|hello|hola|holla)(.*)\",\n",
    "        [\"Hello\", \"Hey there\",\"Hello user\", \"Hello friend\"]\n",
    "    ],\n",
    "    \n",
    "    [\n",
    "        r\"(.*) your name ?\",\n",
    "        [\"My name is Ninja and I'm a chatbot.\",]\n",
    "    ],\n",
    "\n",
    "\n",
    "    [\n",
    "        r\"(.*)help(.*) \",\n",
    "        [\"I can help you.\",]\n",
    "    ],\n",
    "\n",
    "\n",
    "    [\n",
    "        r\"how are you (.*) ?\",\n",
    "        [\"i am great !, i am fine., i am good.\"]\n",
    "    ],\n",
    "    [\n",
    "        r\"sorry (.*)\",\n",
    "        [\"Its alright\",\"Its OK, never mind that\",]\n",
    "    ],\n",
    "\n",
    "\n",
    "    [\n",
    "        r\"quit\",\n",
    "        [\"Bye. See you soon :) \",\"Have a great day. See you soon :) \",\"It was nice talking to you. See you soon :)\"]\n",
    "    ],\n",
    "    [\n",
    "        r\"(.*)\",\n",
    "        ['That is nice to hear']\n",
    "    ],\n",
    "]\n",
    "\n",
    "\n",
    "#Generating reflections\n",
    "print(reflections)\n",
    "\n",
    "#Output\n",
    "{'i': 'you',\n",
    "'your': 'my',\n",
    "'yours': 'mine',\n",
    "'i was': 'you were',\n",
    "'you were': 'I was',\n",
    "\"i'll\": 'you will',\n",
    "\"you'll\": 'I will',\n",
    "'you are': 'I am',\n",
    "\"you've\": 'I have',\n",
    "\"i'd\": 'you would'\n",
    "}\n",
    "\n",
    "#default message\n",
    "print(\"Hi, I'm a bot, and my name is Ninja. \\nPlease type your query. Type quit to leave. \")\n",
    "#Creating Chat Bot\n",
    "chat = Chat(responses, reflections)"
   ]
  },
  {
   "cell_type": "code",
   "execution_count": null,
   "id": "224024b6-ee3e-4446-bb4b-65e148d2eacd",
   "metadata": {},
   "outputs": [],
   "source": []
  }
 ],
 "metadata": {
  "kernelspec": {
   "display_name": "Python 3 (ipykernel)",
   "language": "python",
   "name": "python3"
  },
  "language_info": {
   "codemirror_mode": {
    "name": "ipython",
    "version": 3
   },
   "file_extension": ".py",
   "mimetype": "text/x-python",
   "name": "python",
   "nbconvert_exporter": "python",
   "pygments_lexer": "ipython3",
   "version": "3.11.7"
  }
 },
 "nbformat": 4,
 "nbformat_minor": 5
}
