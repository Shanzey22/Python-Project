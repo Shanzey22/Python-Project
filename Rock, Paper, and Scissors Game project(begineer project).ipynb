{
 "cells": [
  {
   "cell_type": "code",
   "execution_count": null,
   "id": "b0d0a71e-fc87-425c-8c67-531cd5525c96",
   "metadata": {},
   "outputs": [
    {
     "name": "stdin",
     "output_type": "stream",
     "text": [
      "Rock, Paper or  Scissors?  rock\n"
     ]
    },
    {
     "name": "stdout",
     "output_type": "stream",
     "text": [
      "You win! Rock smashes Scissors\n"
     ]
    },
    {
     "name": "stdin",
     "output_type": "stream",
     "text": [
      "Rock, Paper or  Scissors?  paper\n"
     ]
    },
    {
     "name": "stdout",
     "output_type": "stream",
     "text": [
      "You lose! Scissors cut Paper\n"
     ]
    }
   ],
   "source": [
    "#importing random module\n",
    "import random\n",
    "#Declaring available resourses\n",
    "options = [\"Rock\", \"Paper\", \"Scissors\"]\n",
    "\n",
    "#Selecting random option for machine\n",
    "machine = random.choice(options)\n",
    "\n",
    "#Declaring scores\n",
    "user = False\n",
    "machine_score = 0\n",
    "user_score = 0\n",
    "\n",
    "while True:\n",
    "    user = input(\"Rock, Paper or  Scissors? \").capitalize()\n",
    "    # Conditions of Rock, Paper and Scissors\n",
    "    if user == machine:\n",
    "        print(\"Tie!\")\n",
    "    elif user == \"Rock\":\n",
    "        if machine == \"Paper\":\n",
    "            print(\"You lose!\", machine, \"covers\", user)\n",
    "            machine_score+=1\n",
    "        else:\n",
    "            print(\"You win!\", user, \"smashes\", machine)\n",
    "            user_score+=1\n",
    "    elif user == \"Paper\":\n",
    "        if machine  == \"Scissors\":\n",
    "            print(\"You lose!\", machine, \"cut\", user)\n",
    "            machine_score+=1\n",
    "        else:\n",
    "            print(\"You win!\", user, \"covers\", machine)\n",
    "            user_score+=1\n",
    "    elif user == \"Scissors\":\n",
    "        if machine == \"Rock\":\n",
    "            print(\"You lose...\", machine, \"smashes\", user)\n",
    "            machine_score+=1\n",
    "        else:\n",
    "            print(\"You win!\", user, \"cut\", machine)\n",
    "            user_score+=1\n",
    "    elif user =='End':\n",
    "        print(\"Final Scores:\")\n",
    "        print(f\"Computer's score is:{machine_score}\")\n",
    "        print(f\"Your score is:{user_score}\")\n",
    "        break"
   ]
  },
  {
   "cell_type": "code",
   "execution_count": null,
   "id": "048546c5-ff37-4421-b4da-46a6ddfbb233",
   "metadata": {},
   "outputs": [],
   "source": []
  }
 ],
 "metadata": {
  "kernelspec": {
   "display_name": "Python 3 (ipykernel)",
   "language": "python",
   "name": "python3"
  },
  "language_info": {
   "codemirror_mode": {
    "name": "ipython",
    "version": 3
   },
   "file_extension": ".py",
   "mimetype": "text/x-python",
   "name": "python",
   "nbconvert_exporter": "python",
   "pygments_lexer": "ipython3",
   "version": "3.11.7"
  }
 },
 "nbformat": 4,
 "nbformat_minor": 5
}
