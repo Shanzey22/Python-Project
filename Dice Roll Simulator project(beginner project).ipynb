{
 "cells": [
  {
   "cell_type": "code",
   "execution_count": null,
   "id": "22e96c45-e6d7-4e75-a2c8-764961be5783",
   "metadata": {},
   "outputs": [
    {
     "name": "stdout",
     "output_type": "stream",
     "text": [
      "Rolling your Dice...\n",
      "The Values are :\n",
      "2\n",
      "6\n"
     ]
    },
    {
     "name": "stdin",
     "output_type": "stream",
     "text": [
      "Do you want to roll the Dice Again?  y\n"
     ]
    },
    {
     "name": "stdout",
     "output_type": "stream",
     "text": [
      "Rolling your Dice...\n",
      "The Values are :\n",
      "3\n",
      "1\n"
     ]
    },
    {
     "name": "stdin",
     "output_type": "stream",
     "text": [
      "Do you want to roll the Dice Again?  y\n"
     ]
    },
    {
     "name": "stdout",
     "output_type": "stream",
     "text": [
      "Rolling your Dice...\n",
      "The Values are :\n",
      "4\n",
      "6\n"
     ]
    },
    {
     "name": "stdin",
     "output_type": "stream",
     "text": [
      "Do you want to roll the Dice Again?  y\n"
     ]
    },
    {
     "name": "stdout",
     "output_type": "stream",
     "text": [
      "Rolling your Dice...\n",
      "The Values are :\n",
      "6\n",
      "5\n"
     ]
    },
    {
     "name": "stdin",
     "output_type": "stream",
     "text": [
      "Do you want to roll the Dice Again?  y\n"
     ]
    },
    {
     "name": "stdout",
     "output_type": "stream",
     "text": [
      "Rolling your Dice...\n",
      "The Values are :\n",
      "5\n",
      "2\n"
     ]
    },
    {
     "name": "stdin",
     "output_type": "stream",
     "text": [
      "Do you want to roll the Dice Again?  y\n"
     ]
    },
    {
     "name": "stdout",
     "output_type": "stream",
     "text": [
      "Rolling your Dice...\n",
      "The Values are :\n",
      "5\n",
      "6\n"
     ]
    },
    {
     "name": "stdin",
     "output_type": "stream",
     "text": [
      "Do you want to roll the Dice Again?  y\n"
     ]
    },
    {
     "name": "stdout",
     "output_type": "stream",
     "text": [
      "Rolling your Dice...\n",
      "The Values are :\n",
      "4\n",
      "4\n"
     ]
    }
   ],
   "source": [
    "#importing random module for random number generation\n",
    "import random\n",
    "\n",
    "#range of a dice\n",
    "minimum = 1\n",
    "maximum = 6\n",
    "\n",
    "#to loop the rolling through user input\n",
    "Diceroll_again = \"yes\"\n",
    "\n",
    "while Diceroll_again == \"yes\" or Diceroll_again == \"y\":\n",
    "    print(\"Rolling your Dice...\")\n",
    "    print(\"The Values are :\")\n",
    "    \n",
    "    #generating and printing 1st random value\n",
    "    print(random.randint(minimum,maximum))\n",
    "    \n",
    "    #generating and printing 2nd random value\n",
    "    print(random.randint(minimum,maximum))\n",
    "    \n",
    "    Diceroll_again = input(\"Do you want to roll the Dice Again? \")"
   ]
  },
  {
   "cell_type": "code",
   "execution_count": null,
   "id": "b40d65f4-7b25-485c-aabe-32ae4f042d0c",
   "metadata": {},
   "outputs": [],
   "source": []
  }
 ],
 "metadata": {
  "kernelspec": {
   "display_name": "Python 3 (ipykernel)",
   "language": "python",
   "name": "python3"
  },
  "language_info": {
   "codemirror_mode": {
    "name": "ipython",
    "version": 3
   },
   "file_extension": ".py",
   "mimetype": "text/x-python",
   "name": "python",
   "nbconvert_exporter": "python",
   "pygments_lexer": "ipython3",
   "version": "3.11.7"
  }
 },
 "nbformat": 4,
 "nbformat_minor": 5
}
