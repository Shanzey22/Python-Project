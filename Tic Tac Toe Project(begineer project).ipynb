{
 "cells": [
  {
   "cell_type": "code",
   "execution_count": 2,
   "id": "7b3a044b-a11b-463d-aa39-c81625f25b4d",
   "metadata": {},
   "outputs": [
    {
     "name": "stdout",
     "output_type": "stream",
     "text": [
      "First Player\n"
     ]
    },
    {
     "name": "stdin",
     "output_type": "stream",
     "text": [
      "Name:  shan\n"
     ]
    },
    {
     "name": "stdout",
     "output_type": "stream",
     "text": [
      "\n",
      "\n",
      "Second Player\n"
     ]
    },
    {
     "name": "stdin",
     "output_type": "stream",
     "text": [
      "Name:  saniya\n"
     ]
    },
    {
     "name": "stdout",
     "output_type": "stream",
     "text": [
      "\n",
      "\n",
      "\t********************************\n",
      "\t         SCORE BOARD       \n",
      "\t********************************\n",
      "\t    shan \t     0\n",
      "\t    saniya \t     0\n",
      "\t********************************\n",
      "\n",
      "shan will make the choice:\n",
      "Press 1 for X\n",
      "Press 2 for O\n",
      "Press 3 to Quit\n"
     ]
    },
    {
     "name": "stdin",
     "output_type": "stream",
     "text": [
      " 1\n"
     ]
    },
    {
     "name": "stdout",
     "output_type": "stream",
     "text": [
      "\n",
      "\n",
      "\t     |     |\n",
      "\t     |     |   \n",
      "\t_____|_____|_____\n",
      "\t     |     |\n",
      "\t     |     |   \n",
      "\t_____|_____|_____\n",
      "\t     |     |\n",
      "\t     |     |   \n",
      "\t     |     |\n",
      "\n",
      "\n",
      "X 's turn. Choose the Block for your turn : "
     ]
    },
    {
     "name": "stdin",
     "output_type": "stream",
     "text": [
      " 2,3\n"
     ]
    },
    {
     "name": "stdout",
     "output_type": "stream",
     "text": [
      "Invalid Input!!! Try Again\n",
      "\n",
      "\n",
      "\t     |     |\n",
      "\t     |     |   \n",
      "\t_____|_____|_____\n",
      "\t     |     |\n",
      "\t     |     |   \n",
      "\t_____|_____|_____\n",
      "\t     |     |\n",
      "\t     |     |   \n",
      "\t     |     |\n",
      "\n",
      "\n",
      "X 's turn. Choose the Block for your turn : "
     ]
    },
    {
     "name": "stdin",
     "output_type": "stream",
     "text": [
      " 2\n"
     ]
    },
    {
     "name": "stdout",
     "output_type": "stream",
     "text": [
      "\n",
      "\n",
      "\t     |     |\n",
      "\t     |  X  |   \n",
      "\t_____|_____|_____\n",
      "\t     |     |\n",
      "\t     |     |   \n",
      "\t_____|_____|_____\n",
      "\t     |     |\n",
      "\t     |     |   \n",
      "\t     |     |\n",
      "\n",
      "\n",
      "O 's turn. Choose the Block for your turn : "
     ]
    },
    {
     "name": "stdin",
     "output_type": "stream",
     "text": [
      " 5\n"
     ]
    },
    {
     "name": "stdout",
     "output_type": "stream",
     "text": [
      "\n",
      "\n",
      "\t     |     |\n",
      "\t     |  X  |   \n",
      "\t_____|_____|_____\n",
      "\t     |     |\n",
      "\t     |  O  |   \n",
      "\t_____|_____|_____\n",
      "\t     |     |\n",
      "\t     |     |   \n",
      "\t     |     |\n",
      "\n",
      "\n",
      "X 's turn. Choose the Block for your turn : "
     ]
    },
    {
     "name": "stdin",
     "output_type": "stream",
     "text": [
      " 1\n"
     ]
    },
    {
     "name": "stdout",
     "output_type": "stream",
     "text": [
      "\n",
      "\n",
      "\t     |     |\n",
      "\t  X  |  X  |   \n",
      "\t_____|_____|_____\n",
      "\t     |     |\n",
      "\t     |  O  |   \n",
      "\t_____|_____|_____\n",
      "\t     |     |\n",
      "\t     |     |   \n",
      "\t     |     |\n",
      "\n",
      "\n",
      "O 's turn. Choose the Block for your turn : "
     ]
    },
    {
     "name": "stdin",
     "output_type": "stream",
     "text": [
      " 5\n"
     ]
    },
    {
     "name": "stdout",
     "output_type": "stream",
     "text": [
      "Wrong Input!!! Please Try Again\n",
      "\n",
      "\n",
      "\t     |     |\n",
      "\t  X  |  X  |   \n",
      "\t_____|_____|_____\n",
      "\t     |     |\n",
      "\t     |  O  |   \n",
      "\t_____|_____|_____\n",
      "\t     |     |\n",
      "\t     |     |   \n",
      "\t     |     |\n",
      "\n",
      "\n",
      "O 's turn. Choose the Block for your turn : "
     ]
    },
    {
     "name": "stdin",
     "output_type": "stream",
     "text": [
      " 6\n"
     ]
    },
    {
     "name": "stdout",
     "output_type": "stream",
     "text": [
      "\n",
      "\n",
      "\t     |     |\n",
      "\t  X  |  X  |   \n",
      "\t_____|_____|_____\n",
      "\t     |     |\n",
      "\t     |  O  |  O\n",
      "\t_____|_____|_____\n",
      "\t     |     |\n",
      "\t     |     |   \n",
      "\t     |     |\n",
      "\n",
      "\n",
      "X 's turn. Choose the Block for your turn : "
     ]
    },
    {
     "name": "stdin",
     "output_type": "stream",
     "text": [
      " 3\n"
     ]
    },
    {
     "name": "stdout",
     "output_type": "stream",
     "text": [
      "\n",
      "\n",
      "\t     |     |\n",
      "\t  X  |  X  |  X\n",
      "\t_____|_____|_____\n",
      "\t     |     |\n",
      "\t     |  O  |  O\n",
      "\t_____|_____|_____\n",
      "\t     |     |\n",
      "\t     |     |   \n",
      "\t     |     |\n",
      "\n",
      "\n",
      "Congrats! X  has won!!\n",
      "\n",
      "\n",
      "\t********************************\n",
      "\t         SCORE BOARD       \n",
      "\t********************************\n",
      "\t    shan \t     1\n",
      "\t    saniya \t     0\n",
      "\t********************************\n",
      "\n",
      "saniya will make the choice:\n",
      "Press 1 for X\n",
      "Press 2 for O\n",
      "Press 3 to Quit\n"
     ]
    },
    {
     "name": "stdin",
     "output_type": "stream",
     "text": [
      " 3\n"
     ]
    },
    {
     "name": "stdout",
     "output_type": "stream",
     "text": [
      "The Final Scores\n",
      "\t********************************\n",
      "\t         SCORE BOARD       \n",
      "\t********************************\n",
      "\t    shan \t     1\n",
      "\t    saniya \t     0\n",
      "\t********************************\n",
      "\n"
     ]
    }
   ],
   "source": [
    "def tictactoe(val):\n",
    "    print(\"\\n\")\n",
    "    print(\"\\t     |     |\")\n",
    "    print(\"\\t  {}  |  {}  |  {}\".format(val[0], val[1], val[2]))\n",
    "    print('\\t_____|_____|_____')\n",
    " \n",
    "    print(\"\\t     |     |\")\n",
    "    print(\"\\t  {}  |  {}  |  {}\".format(val[3], val[4], val[5]))\n",
    "    print('\\t_____|_____|_____')\n",
    " \n",
    "    print(\"\\t     |     |\")\n",
    " \n",
    "    print(\"\\t  {}  |  {}  |  {}\".format(val[6], val[7], val[8]))\n",
    "    print(\"\\t     |     |\")\n",
    "    print(\"\\n\")\n",
    " \n",
    "def myscore_board(score_board):\n",
    "    print(\"\\t********************************\")\n",
    "    print(\"\\t         SCORE BOARD       \")\n",
    "    print(\"\\t********************************\")\n",
    " \n",
    "    list_of_players = list(score_board.keys())\n",
    "    print(\"\\t   \", list_of_players[0], \"\\t    \", score_board[list_of_players[0]])\n",
    "    print(\"\\t   \", list_of_players[1], \"\\t    \", score_board[list_of_players[1]])\n",
    " \n",
    "    print(\"\\t********************************\\n\")\n",
    " \n",
    "def check_Victory(playerposition, current_player):\n",
    " \n",
    "    solution = [[1, 2, 3], [4, 5, 6], [7, 8, 9], [1, 4, 7], [2, 5, 8], [3, 6, 9], [1, 5, 9], [3, 5, 7]]\n",
    " \n",
    "    for i in solution:\n",
    "        if all(k in playerposition[current_player] for k in i):\n",
    " \n",
    "            return True\n",
    "\n",
    "\n",
    "    return False      \n",
    " \n",
    "def check_Tie(playerposition):\n",
    "    if len(playerposition['X']) + len(playerposition['O']) == 9:\n",
    "        return True\n",
    "    return False      \n",
    " \n",
    "def singlegame(current_player):\n",
    " \n",
    "    val = [' ' for i in range(9)]\n",
    "     \n",
    "    playerposition = {'X' : [], 'O' : []}\n",
    "     \n",
    "    while True:\n",
    "        tictactoe(val)\n",
    "         \n",
    "        try:\n",
    "            print(current_player, \"'s turn. Choose the Block for your turn : \", end=\"\")\n",
    "            chance = int(input())\n",
    "        except ValueError:\n",
    "            print(\"Invalid Input!!! Try Again\")\n",
    "            continue\n",
    "\n",
    "\n",
    "        if chance < 1 or chance > 9:\n",
    "            print(\"Wrong Input!!! Please Try Again\")\n",
    "            continue\n",
    " \n",
    "        if val[chance - 1] != ' ':\n",
    "            print(\"Wrong Input!!! Please Try Again\")\n",
    "            continue\n",
    "        val[chance - 1] = current_player\n",
    " \n",
    "        playerposition[current_player].append(chance)\n",
    "\n",
    "\n",
    "        if check_Victory(playerposition, current_player):\n",
    "            tictactoe(val)\n",
    "            print(\"Congrats!\", current_player, \" has won!!\")    \n",
    "            print(\"\\n\")\n",
    "            return current_player\n",
    "\n",
    "\n",
    "        if check_Tie(playerposition):\n",
    "            tictactoe(val)\n",
    "            print(\"Tie\")\n",
    "            print(\"\\n\")\n",
    "            return 'D'\n",
    "\n",
    "\n",
    "        if current_player == 'X':\n",
    "            current_player = 'O'\n",
    "        else:\n",
    "            current_player = 'X'\n",
    "\n",
    "\n",
    "if __name__ == \"__main__\":\n",
    "\n",
    "\n",
    "    print(\"First Player\")\n",
    "    FirstPlayer = input(\"Name: \")\n",
    "    print(\"\\n\")\n",
    "\n",
    "\n",
    "    print(\"Second Player\")\n",
    "    SecondPlayer = input(\"Name: \")\n",
    "    print(\"\\n\")\n",
    "\n",
    "\n",
    "    current_player = FirstPlayer\n",
    " \n",
    "    playerchoice = {'X' : \"\", 'O' : \"\"}\n",
    " \n",
    "    opt = ['X', 'O']\n",
    " \n",
    "    score_board = {FirstPlayer: 0, SecondPlayer: 0}\n",
    "    myscore_board(score_board)\n",
    " \n",
    "    while True:\n",
    " \n",
    "        print(current_player, \"will make the choice:\")\n",
    "        print(\"Press 1 for X\")\n",
    "        print(\"Press 2 for O\")\n",
    "        print(\"Press 3 to Quit\")\n",
    " \n",
    "        try:\n",
    "            the_choice = int(input())  \n",
    "        except ValueError:\n",
    "            print(\"Invalid Input!!! Try Again\\n\")\n",
    "            continue\n",
    " \n",
    "        if the_choice == 1:\n",
    "            playerchoice['X'] = current_player\n",
    "            if current_player == FirstPlayer:\n",
    "                playerchoice['O'] = SecondPlayer\n",
    "            else:\n",
    "                playerchoice['O'] = FirstPlayer\n",
    " \n",
    "        elif the_choice == 2:\n",
    "            playerchoice['O'] = current_player\n",
    "            if current_player == FirstPlayer:\n",
    "                playerchoice['X'] = SecondPlayer\n",
    "            else:\n",
    "                playerchoice['X'] = FirstPlayer\n",
    "         \n",
    "        elif the_choice == 3:\n",
    "            print(\"The Final Scores\")\n",
    "            myscore_board(score_board)\n",
    "            break  \n",
    " \n",
    "        else:\n",
    "            print(\"Try Again\\n\")\n",
    " \n",
    "        win = singlegame(opt[the_choice - 1])\n",
    "     \n",
    "        if win != 'D' :\n",
    "            playerWon = playerchoice[win]\n",
    "            score_board[playerWon] = score_board[playerWon] + 1\n",
    " \n",
    "        myscore_board(score_board)\n",
    "        if current_player == FirstPlayer:\n",
    "            current_player = SecondPlayer\n",
    "        else:\n",
    "            current_player = FirstPlayer"
   ]
  },
  {
   "cell_type": "code",
   "execution_count": null,
   "id": "826d95aa-b391-414d-b486-d06f80aa2e7e",
   "metadata": {},
   "outputs": [],
   "source": []
  }
 ],
 "metadata": {
  "kernelspec": {
   "display_name": "Python 3 (ipykernel)",
   "language": "python",
   "name": "python3"
  },
  "language_info": {
   "codemirror_mode": {
    "name": "ipython",
    "version": 3
   },
   "file_extension": ".py",
   "mimetype": "text/x-python",
   "name": "python",
   "nbconvert_exporter": "python",
   "pygments_lexer": "ipython3",
   "version": "3.11.7"
  }
 },
 "nbformat": 4,
 "nbformat_minor": 5
}
