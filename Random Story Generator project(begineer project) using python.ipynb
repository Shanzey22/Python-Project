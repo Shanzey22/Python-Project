{
 "cells": [
  {
   "cell_type": "code",
   "execution_count": 1,
   "id": "10a5e44f-b25a-4404-a106-dd91a797328a",
   "metadata": {},
   "outputs": [
    {
     "name": "stdout",
     "output_type": "stream",
     "text": [
      "DSA is an essential topic for  Professionals, You can see it from  Code Studio Library.\n"
     ]
    }
   ],
   "source": [
    "#importing module\n",
    "import random\n",
    "#Defining a list of phrases for sentence making\n",
    "topic = ['DSA', 'Python', 'Java', 'Computer Networks',' Operating Systems']\n",
    "adj = ['an important', 'an essential', 'very important', 'an interesting']\n",
    "to = ['Developers', 'Student',' Professionals', 'Freshers']\n",
    "supportive = ['learn it',' master it', 'read it', 'see it']\n",
    "where = ['Coding Ninjas.', 'Code Studio.',' Code Studio Library.', 'CN guided paths.']\n",
    "#generating the output\n",
    "print(random.choice(topic) + ' is ' + random.choice(adj) + ' topic for ' + random.choice(to) + ', You can ' + random.choice(supportive) + ' from ' + random.choice(where))"
   ]
  },
  {
   "cell_type": "code",
   "execution_count": null,
   "id": "2559a78e-c02c-4d3c-871f-74b463f86c69",
   "metadata": {},
   "outputs": [],
   "source": []
  },
  {
   "cell_type": "code",
   "execution_count": null,
   "id": "30eb0180-8152-4187-b1c2-21294d2e4e2e",
   "metadata": {},
   "outputs": [],
   "source": []
  },
  {
   "cell_type": "code",
   "execution_count": null,
   "id": "2f238fc1-c913-450a-8d57-fb543cef5ff4",
   "metadata": {},
   "outputs": [],
   "source": []
  }
 ],
 "metadata": {
  "kernelspec": {
   "display_name": "Python 3 (ipykernel)",
   "language": "python",
   "name": "python3"
  },
  "language_info": {
   "codemirror_mode": {
    "name": "ipython",
    "version": 3
   },
   "file_extension": ".py",
   "mimetype": "text/x-python",
   "name": "python",
   "nbconvert_exporter": "python",
   "pygments_lexer": "ipython3",
   "version": "3.11.7"
  }
 },
 "nbformat": 4,
 "nbformat_minor": 5
}
