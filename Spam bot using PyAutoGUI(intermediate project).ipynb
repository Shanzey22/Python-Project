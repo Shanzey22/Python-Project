{
 "cells": [
  {
   "cell_type": "code",
   "execution_count": null,
   "id": "530b27d7-0293-44b5-b3c6-15861063be57",
   "metadata": {},
   "outputs": [
    {
     "name": "stdout",
     "output_type": "stream",
     "text": [
      "2024-05-31 15:16:03.699743\n",
      "2024-05-31 15:16:34.951504\n"
     ]
    }
   ],
   "source": [
    "import pyautogui, time, datetime \n",
    "\n",
    "time.sleep(2) \n",
    "\n",
    "while True: \n",
    "\t\n",
    "\t# to display the time at which the message is sent \n",
    "\tprint(datetime.datetime.now()) \n",
    "\tpyautogui.typewrite(\"Reminder: Drink water!\") \n",
    "\tpyautogui.press(\"enter\") \n",
    "\ttime.sleep(31) \n",
    "\n",
    "\tprint(datetime.datetime.now()) \n",
    "\n",
    "\tpyautogui.typewrite(\"Reminder: Take medicine!\") \n",
    "\tpyautogui.press(\"enter\") \n",
    "\ttime.sleep(31) Reminder: Drink water!\n",
    "    \n",
    "\n",
    "\tprint(datetime.datetime.now()) \n",
    "\n",
    "\tpyautogui.typewrite(\"Reminder: Take the dog for a walk!\") \n",
    "\tpyautogui.press(\"enter\") \n",
    "\ttime.sleep(31) \n",
    "\n",
    "\tprint(datetime.datetime.now()) \n",
    "\n",
    "\tpyautogui.typewrite(\"Reminder: Drink water!\") \n",
    "\tpyautogui.press(\"enter\") \n",
    "\ttime.sleep(31) \n",
    "\n",
    "\tprint(datetime.datetime.now()) \n",
    "\n",
    "\tpyautogui.typewrite(\"Reminder: Drink water!\") \n",
    "\tpyautogui.press(\"enter\") \n",
    "\ttime.sleep(31) \n"
   ]
  },
  {
   "cell_type": "code",
   "execution_count": null,
   "id": "a05195a8-2371-4cdf-ab16-2523581f0f71",
   "metadata": {},
   "outputs": [],
   "source": []
  }
 ],
 "metadata": {
  "kernelspec": {
   "display_name": "Python 3 (ipykernel)",
   "language": "python",
   "name": "python3"
  },
  "language_info": {
   "codemirror_mode": {
    "name": "ipython",
    "version": 3
   },
   "file_extension": ".py",
   "mimetype": "text/x-python",
   "name": "python",
   "nbconvert_exporter": "python",
   "pygments_lexer": "ipython3",
   "version": "3.11.7"
  }
 },
 "nbformat": 4,
 "nbformat_minor": 5
}
