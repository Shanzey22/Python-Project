{
 "cells": [
  {
   "cell_type": "code",
   "execution_count": 10,
   "id": "4be941e0-c425-494e-8c8b-3fc04be183e3",
   "metadata": {},
   "outputs": [
    {
     "name": "stdout",
     "output_type": "stream",
     "text": [
      "3 3\n",
      "3 8\n",
      "3 9\n",
      "3 9\n"
     ]
    }
   ],
   "source": [
    "# python code to train pokemon \n",
    "powers = [3, 8, 9, 7] \n",
    "\n",
    "mini, maxi = 0, 0\n",
    "\n",
    "for power in powers: \n",
    "\tif mini == 0 and maxi == 0: \n",
    "\t\tmini, maxi = powers[0], powers[0] \n",
    "\t\tprint(mini, maxi) \n",
    "\telse: \n",
    "\t\tmini = min(mini, power) \n",
    "\t\tmaxi = max(maxi, power) \n",
    "\t\tprint(mini, maxi) \n",
    "\t\t\n",
    "# Time Complexity is O(N) with Space Complexity O(1) \n"
   ]
  },
  {
   "cell_type": "code",
   "execution_count": null,
   "id": "22a1c318-8d57-4ca2-a503-b6380264443b",
   "metadata": {},
   "outputs": [],
   "source": []
  },
  {
   "cell_type": "code",
   "execution_count": null,
   "id": "517f8b1c-abb3-4535-830f-ee203295259e",
   "metadata": {},
   "outputs": [],
   "source": []
  }
 ],
 "metadata": {
  "kernelspec": {
   "display_name": "Python 3 (ipykernel)",
   "language": "python",
   "name": "python3"
  },
  "language_info": {
   "codemirror_mode": {
    "name": "ipython",
    "version": 3
   },
   "file_extension": ".py",
   "mimetype": "text/x-python",
   "name": "python",
   "nbconvert_exporter": "python",
   "pygments_lexer": "ipython3",
   "version": "3.11.7"
  }
 },
 "nbformat": 4,
 "nbformat_minor": 5
}
